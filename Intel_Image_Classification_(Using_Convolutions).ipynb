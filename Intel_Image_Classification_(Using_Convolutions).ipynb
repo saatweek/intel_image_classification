{
  "nbformat": 4,
  "nbformat_minor": 0,
  "metadata": {
    "accelerator": "GPU",
    "colab": {
      "name": "Intel Image Classification (Using Convolutions).ipynb",
      "provenance": [],
      "collapsed_sections": [],
      "authorship_tag": "ABX9TyOPUJ8sMh3D9L7Y8W4GrT7j",
      "include_colab_link": true
    },
    "kernelspec": {
      "display_name": "Python 3",
      "name": "python3"
    }
  },
  "cells": [
    {
      "cell_type": "markdown",
      "metadata": {
        "id": "view-in-github",
        "colab_type": "text"
      },
      "source": [
        "<a href=\"https://colab.research.google.com/github/saatweek/Intel-Image-Classification/blob/main/Intel_Image_Classification_(Using_Convolutions).ipynb\" target=\"_parent\"><img src=\"https://colab.research.google.com/assets/colab-badge.svg\" alt=\"Open In Colab\"/></a>"
      ]
    },
    {
      "cell_type": "code",
      "metadata": {
        "id": "Qp0MHqcyKXz9",
        "outputId": "505d093c-41ec-448c-8403-bb6a221a50c6",
        "colab": {
          "base_uri": "https://localhost:8080/"
        }
      },
      "source": [
        "#The dataset is stored in my Google Drive, so we'll first have to connect this notebook \n",
        "#to the Google drive to access the files in the drive from this notebook \n",
        "\n",
        "from google.colab import drive\n",
        "drive.mount('/content/drive')"
      ],
      "execution_count": null,
      "outputs": [
        {
          "output_type": "stream",
          "text": [
            "Mounted at /content/drive\n"
          ],
          "name": "stdout"
        }
      ]
    },
    {
      "cell_type": "code",
      "metadata": {
        "id": "yVun2RZn69B0"
      },
      "source": [
        "#importing dependencies\n",
        "\n",
        "import numpy as np\n",
        "import tensorflow as tf\n",
        "from tensorflow.keras.preprocessing.image import ImageDataGenerator\n",
        "import plotly.graph_objects as go"
      ],
      "execution_count": null,
      "outputs": []
    },
    {
      "cell_type": "code",
      "metadata": {
        "id": "SgLPKdpU7SvT"
      },
      "source": [
        "#Implementing a Callback to stop training when the desired training accuracy is reached\n",
        "\n",
        "class myCallback (tf.keras.callbacks.Callback):\n",
        "  def on_epoch_end(self, epoch, logs = {}):\n",
        "    if (logs.get('acc')>0.95):\n",
        "      self.model.stop_training = True\n",
        "      print('Enough Accuracy Reached!')\n",
        "\n",
        "callback = myCallback()"
      ],
      "execution_count": null,
      "outputs": []
    },
    {
      "cell_type": "code",
      "metadata": {
        "id": "L0-Bv_e28R2H",
        "outputId": "82c6eabf-fe6c-4959-a784-62e3ffcbb72d",
        "colab": {
          "base_uri": "https://localhost:8080/"
        }
      },
      "source": [
        "#Image Data Generator\n",
        "\n",
        "train_dir = '/content/drive/My Drive/Colab Notebooks/Personal Projects/Intel Image Classification/seg_train'\n",
        "validation_dir = '/content/drive/My Drive/Colab Notebooks/Personal Projects/Intel Image Classification/seg_test'\n",
        "\n",
        "train_datagen = ImageDataGenerator(rescale = 1./255, \n",
        "                                   rotation_range=0.3, \n",
        "                                   width_shift_range=0.3,\n",
        "                                   height_shift_range=0.3,\n",
        "                                   shear_range=0.3, \n",
        "                                   zoom_range=0.3, \n",
        "                                   horizontal_flip=True)\n",
        "\n",
        "validation_datagen = ImageDataGenerator(rescale = 1./255, \n",
        "                                        rotation_range=0.3, \n",
        "                                        width_shift_range=0.3,\n",
        "                                        height_shift_range=0.3,\n",
        "                                        shear_range=0.3, \n",
        "                                        zoom_range=0.3, \n",
        "                                        horizontal_flip=True)\n",
        "\n",
        "train_generator = train_datagen.flow_from_directory(train_dir, \n",
        "                                                    target_size = (150, 150), \n",
        "                                                    batch_size = 128, \n",
        "                                                    class_mode='sparse')\n",
        "\n",
        "validation_generator = validation_datagen.flow_from_directory(validation_dir, \n",
        "                                                              target_size = (150, 150), \n",
        "                                                              batch_size = 128, \n",
        "                                                              class_mode='sparse')"
      ],
      "execution_count": null,
      "outputs": [
        {
          "output_type": "stream",
          "text": [
            "Found 14034 images belonging to 6 classes.\n",
            "Found 3000 images belonging to 6 classes.\n"
          ],
          "name": "stdout"
        }
      ]
    },
    {
      "cell_type": "code",
      "metadata": {
        "id": "Usni-tvB_BJ_",
        "outputId": "19b803a4-0c28-4d2f-f25a-7a65d3b82cd4",
        "colab": {
          "base_uri": "https://localhost:8080/"
        }
      },
      "source": [
        "model = tf.keras.models.Sequential([tf.keras.layers.Conv2D(16, (3, 3), activation = 'relu', input_shape = (150, 150, 3)),\n",
        "                                    tf.keras.layers.MaxPooling2D(2, 2),\n",
        "                                    tf.keras.layers.Conv2D(32, (3, 3), activation='relu'),\n",
        "                                    tf.keras.layers.MaxPooling2D(2, 2),\n",
        "                                    tf.keras.layers.Conv2D(64, (3, 3), activation='relu'),\n",
        "                                    tf.keras.layers.MaxPooling2D(2, 2),\n",
        "                                    tf.keras.layers.Flatten(),\n",
        "                                    tf.keras.layers.Dense(256, activation='relu'),\n",
        "                                    tf.keras.layers.Dense(6, activation = 'softmax')])\n",
        "\n",
        "model.summary()"
      ],
      "execution_count": null,
      "outputs": [
        {
          "output_type": "stream",
          "text": [
            "Model: \"sequential\"\n",
            "_________________________________________________________________\n",
            "Layer (type)                 Output Shape              Param #   \n",
            "=================================================================\n",
            "conv2d (Conv2D)              (None, 148, 148, 16)      448       \n",
            "_________________________________________________________________\n",
            "max_pooling2d (MaxPooling2D) (None, 74, 74, 16)        0         \n",
            "_________________________________________________________________\n",
            "conv2d_1 (Conv2D)            (None, 72, 72, 32)        4640      \n",
            "_________________________________________________________________\n",
            "max_pooling2d_1 (MaxPooling2 (None, 36, 36, 32)        0         \n",
            "_________________________________________________________________\n",
            "conv2d_2 (Conv2D)            (None, 34, 34, 64)        18496     \n",
            "_________________________________________________________________\n",
            "max_pooling2d_2 (MaxPooling2 (None, 17, 17, 64)        0         \n",
            "_________________________________________________________________\n",
            "flatten (Flatten)            (None, 18496)             0         \n",
            "_________________________________________________________________\n",
            "dense (Dense)                (None, 256)               4735232   \n",
            "_________________________________________________________________\n",
            "dense_1 (Dense)              (None, 6)                 1542      \n",
            "=================================================================\n",
            "Total params: 4,760,358\n",
            "Trainable params: 4,760,358\n",
            "Non-trainable params: 0\n",
            "_________________________________________________________________\n"
          ],
          "name": "stdout"
        }
      ]
    },
    {
      "cell_type": "code",
      "metadata": {
        "id": "PZlkn5jf_EEN"
      },
      "source": [
        "model.compile(loss = 'sparse_categorical_crossentropy', \n",
        "              optimizer='adam', \n",
        "              metrics = 'acc')"
      ],
      "execution_count": null,
      "outputs": []
    },
    {
      "cell_type": "code",
      "metadata": {
        "id": "eIFEi9HP_EmZ",
        "outputId": "1cf1a3ca-18f1-474f-bf46-66bfee7160ab",
        "colab": {
          "background_save": true,
          "base_uri": "https://localhost:8080/"
        }
      },
      "source": [
        "history = model.fit(train_generator, \n",
        "                    steps_per_epoch=20, \n",
        "                    epochs=40, \n",
        "                    validation_data = validation_generator, \n",
        "                    callbacks = [callback])"
      ],
      "execution_count": null,
      "outputs": [
        {
          "output_type": "stream",
          "text": [
            "Epoch 1/40\n",
            "20/20 [==============================] - 1335s 67s/step - loss: 1.4986 - acc: 0.3684 - val_loss: 1.2801 - val_acc: 0.4927\n",
            "Epoch 2/40\n",
            "20/20 [==============================] - 534s 27s/step - loss: 1.2317 - acc: 0.5098 - val_loss: 1.1513 - val_acc: 0.5437\n",
            "Epoch 3/40\n",
            "20/20 [==============================] - 422s 21s/step - loss: 1.1206 - acc: 0.5551 - val_loss: 1.0810 - val_acc: 0.5827\n",
            "Epoch 4/40\n",
            "20/20 [==============================] - 373s 19s/step - loss: 1.0316 - acc: 0.5934 - val_loss: 1.0318 - val_acc: 0.5953\n",
            "Epoch 5/40\n",
            "20/20 [==============================] - 323s 16s/step - loss: 0.9887 - acc: 0.6062 - val_loss: 0.9791 - val_acc: 0.6160\n",
            "Epoch 6/40\n",
            "20/20 [==============================] - 262s 13s/step - loss: 0.9376 - acc: 0.6395 - val_loss: 1.0035 - val_acc: 0.6190\n",
            "Epoch 7/40\n",
            "20/20 [==============================] - 214s 11s/step - loss: 0.9533 - acc: 0.6500 - val_loss: 0.9553 - val_acc: 0.6430\n",
            "Epoch 8/40\n",
            "20/20 [==============================] - 186s 9s/step - loss: 0.9406 - acc: 0.6468 - val_loss: 0.9101 - val_acc: 0.6580\n",
            "Epoch 9/40\n",
            "20/20 [==============================] - 178s 9s/step - loss: 0.8764 - acc: 0.6664 - val_loss: 0.8922 - val_acc: 0.6630\n",
            "Epoch 10/40\n",
            "20/20 [==============================] - 163s 8s/step - loss: 0.8567 - acc: 0.6687 - val_loss: 0.9627 - val_acc: 0.6380\n",
            "Epoch 11/40\n",
            "20/20 [==============================] - 129s 6s/step - loss: 0.8846 - acc: 0.6508 - val_loss: 0.8586 - val_acc: 0.6710\n",
            "Epoch 12/40\n",
            "20/20 [==============================] - 118s 6s/step - loss: 0.8607 - acc: 0.6844 - val_loss: 0.8670 - val_acc: 0.6690\n",
            "Epoch 13/40\n",
            "20/20 [==============================] - 110s 6s/step - loss: 0.8483 - acc: 0.6782 - val_loss: 0.8373 - val_acc: 0.6867\n",
            "Epoch 14/40\n",
            "20/20 [==============================] - 105s 5s/step - loss: 0.7938 - acc: 0.6989 - val_loss: 0.9497 - val_acc: 0.6213\n",
            "Epoch 15/40\n",
            "20/20 [==============================] - 103s 5s/step - loss: 0.8201 - acc: 0.6914 - val_loss: 0.7839 - val_acc: 0.7093\n",
            "Epoch 16/40\n",
            "20/20 [==============================] - 99s 5s/step - loss: 0.7862 - acc: 0.7025 - val_loss: 0.7978 - val_acc: 0.7057\n",
            "Epoch 17/40\n",
            "20/20 [==============================] - 97s 5s/step - loss: 0.7756 - acc: 0.7164 - val_loss: 0.7529 - val_acc: 0.7283\n",
            "Epoch 18/40\n",
            "20/20 [==============================] - 95s 5s/step - loss: 0.7592 - acc: 0.7254 - val_loss: 0.7447 - val_acc: 0.7317\n",
            "Epoch 19/40\n",
            "20/20 [==============================] - 92s 5s/step - loss: 0.7493 - acc: 0.7254 - val_loss: 0.8309 - val_acc: 0.6900\n",
            "Epoch 20/40\n",
            "20/20 [==============================] - 97s 5s/step - loss: 0.7569 - acc: 0.7234 - val_loss: 0.7431 - val_acc: 0.7253\n",
            "Epoch 21/40\n",
            "20/20 [==============================] - 93s 5s/step - loss: 0.7020 - acc: 0.7477 - val_loss: 0.7294 - val_acc: 0.7250\n",
            "Epoch 22/40\n",
            "20/20 [==============================] - 94s 5s/step - loss: 0.6997 - acc: 0.7453 - val_loss: 0.7336 - val_acc: 0.7177\n",
            "Epoch 23/40\n",
            "20/20 [==============================] - 95s 5s/step - loss: 0.7528 - acc: 0.7188 - val_loss: 0.7096 - val_acc: 0.7387\n",
            "Epoch 24/40\n",
            "20/20 [==============================] - 92s 5s/step - loss: 0.6872 - acc: 0.7418 - val_loss: 0.7112 - val_acc: 0.7367\n",
            "Epoch 25/40\n",
            "20/20 [==============================] - 92s 5s/step - loss: 0.7120 - acc: 0.7281 - val_loss: 0.6779 - val_acc: 0.7577\n",
            "Epoch 26/40\n",
            "20/20 [==============================] - 91s 5s/step - loss: 0.6745 - acc: 0.7434 - val_loss: 0.6665 - val_acc: 0.7520\n",
            "Epoch 27/40\n",
            "20/20 [==============================] - 95s 5s/step - loss: 0.6476 - acc: 0.7543 - val_loss: 0.6955 - val_acc: 0.7397\n",
            "Epoch 28/40\n",
            "20/20 [==============================] - 94s 5s/step - loss: 0.7165 - acc: 0.7359 - val_loss: 0.7324 - val_acc: 0.7293\n",
            "Epoch 29/40\n",
            "20/20 [==============================] - 93s 5s/step - loss: 0.6824 - acc: 0.7434 - val_loss: 0.7245 - val_acc: 0.7243\n",
            "Epoch 30/40\n",
            "20/20 [==============================] - 92s 5s/step - loss: 0.6447 - acc: 0.7633 - val_loss: 0.6534 - val_acc: 0.7647\n",
            "Epoch 31/40\n",
            "20/20 [==============================] - 91s 5s/step - loss: 0.6428 - acc: 0.7750 - val_loss: 0.6886 - val_acc: 0.7433\n",
            "Epoch 32/40\n",
            "20/20 [==============================] - 91s 5s/step - loss: 0.6298 - acc: 0.7676 - val_loss: 0.6192 - val_acc: 0.7753\n",
            "Epoch 33/40\n",
            "20/20 [==============================] - 94s 5s/step - loss: 0.6242 - acc: 0.7657 - val_loss: 0.6298 - val_acc: 0.7693\n",
            "Epoch 34/40\n",
            "20/20 [==============================] - 91s 5s/step - loss: 0.6829 - acc: 0.7496 - val_loss: 0.6570 - val_acc: 0.7600\n",
            "Epoch 35/40\n",
            "20/20 [==============================] - 94s 5s/step - loss: 0.6474 - acc: 0.7633 - val_loss: 0.6592 - val_acc: 0.7637\n",
            "Epoch 36/40\n",
            "20/20 [==============================] - 93s 5s/step - loss: 0.6398 - acc: 0.7605 - val_loss: 0.6807 - val_acc: 0.7487\n",
            "Epoch 37/40\n",
            "20/20 [==============================] - 94s 5s/step - loss: 0.6353 - acc: 0.7653 - val_loss: 0.6086 - val_acc: 0.7753\n",
            "Epoch 38/40\n",
            "20/20 [==============================] - 93s 5s/step - loss: 0.5838 - acc: 0.7884 - val_loss: 0.6332 - val_acc: 0.7713\n",
            "Epoch 39/40\n",
            "20/20 [==============================] - 96s 5s/step - loss: 0.6170 - acc: 0.7781 - val_loss: 0.6042 - val_acc: 0.7767\n",
            "Epoch 40/40\n",
            "20/20 [==============================] - 95s 5s/step - loss: 0.6056 - acc: 0.7746 - val_loss: 0.6220 - val_acc: 0.7753\n"
          ],
          "name": "stdout"
        }
      ]
    },
    {
      "cell_type": "code",
      "metadata": {
        "id": "IwyomIHVHEsk",
        "outputId": "fd8f4d0b-e0bc-4496-8376-610616ddad86",
        "colab": {
          "background_save": true,
          "base_uri": "https://localhost:8080/",
          "height": 542
        }
      },
      "source": [
        "#PLotting the graph\n",
        "\n",
        "fig = go.Figure()\n",
        "x = np.linspace(1,20, 20)\n",
        "y1 = history.history['acc']\n",
        "y2 = history.history['val_acc']\n",
        "fig.add_trace(go.Scatter(x = x, y = y1, name = 'training accuracy')),\n",
        "fig.add_trace(go.Scatter(x = x, y = y2, name = 'validation accuracy')),\n",
        "fig.update_layout(xaxis_title = 'Epochs', yaxis_title = 'accuracy', title = 'Accuracy of Model')\n",
        "fig.show()"
      ],
      "execution_count": null,
      "outputs": [
        {
          "output_type": "display_data",
          "data": {
            "text/html": [
              "<html>\n",
              "<head><meta charset=\"utf-8\" /></head>\n",
              "<body>\n",
              "    <div>\n",
              "            <script src=\"https://cdnjs.cloudflare.com/ajax/libs/mathjax/2.7.5/MathJax.js?config=TeX-AMS-MML_SVG\"></script><script type=\"text/javascript\">if (window.MathJax) {MathJax.Hub.Config({SVG: {font: \"STIX-Web\"}});}</script>\n",
              "                <script type=\"text/javascript\">window.PlotlyConfig = {MathJaxConfig: 'local'};</script>\n",
              "        <script src=\"https://cdn.plot.ly/plotly-latest.min.js\"></script>    \n",
              "            <div id=\"98afd17f-4bd5-45c6-b780-c453ea1b749e\" class=\"plotly-graph-div\" style=\"height:525px; width:100%;\"></div>\n",
              "            <script type=\"text/javascript\">\n",
              "                \n",
              "                    window.PLOTLYENV=window.PLOTLYENV || {};\n",
              "                    \n",
              "                if (document.getElementById(\"98afd17f-4bd5-45c6-b780-c453ea1b749e\")) {\n",
              "                    Plotly.newPlot(\n",
              "                        '98afd17f-4bd5-45c6-b780-c453ea1b749e',\n",
              "                        [{\"name\": \"training accuracy\", \"type\": \"scatter\", \"x\": [1.0, 2.0, 3.0, 4.0, 5.0, 6.0, 7.0, 8.0, 9.0, 10.0, 11.0, 12.0, 13.0, 14.0, 15.0, 16.0, 17.0, 18.0, 19.0, 20.0], \"y\": [0.36835938692092896, 0.509765625, 0.5550781488418579, 0.5933593511581421, 0.606249988079071, 0.639453113079071, 0.6499999761581421, 0.6467780470848083, 0.6664062738418579, 0.668749988079071, 0.6507812738418579, 0.684374988079071, 0.6782020926475525, 0.6988862156867981, 0.69140625, 0.7024661898612976, 0.7163882255554199, 0.725390613079071, 0.725390613079071, 0.723437488079071, 0.7476562261581421, 0.745312511920929, 0.71875, 0.7417968511581421, 0.7281249761581421, 0.743359386920929, 0.7542968988418579, 0.7359374761581421, 0.743359386920929, 0.7632812261581421, 0.7749999761581421, 0.767578125, 0.7657120227813721, 0.7496093511581421, 0.7632812261581421, 0.7605409622192383, 0.7653142213821411, 0.7883850336074829, 0.778124988079071, 0.774609386920929]}, {\"name\": \"validation accuracy\", \"type\": \"scatter\", \"x\": [1.0, 2.0, 3.0, 4.0, 5.0, 6.0, 7.0, 8.0, 9.0, 10.0, 11.0, 12.0, 13.0, 14.0, 15.0, 16.0, 17.0, 18.0, 19.0, 20.0], \"y\": [0.49266666173934937, 0.543666660785675, 0.5826666951179504, 0.5953333377838135, 0.6159999966621399, 0.6190000176429749, 0.6430000066757202, 0.6579999923706055, 0.6629999876022339, 0.6380000114440918, 0.6710000038146973, 0.6690000295639038, 0.6866666674613953, 0.6213333606719971, 0.7093333601951599, 0.7056666612625122, 0.7283333539962769, 0.7316666841506958, 0.6899999976158142, 0.7253333330154419, 0.7250000238418579, 0.7176666855812073, 0.7386666536331177, 0.7366666793823242, 0.7576666474342346, 0.7519999742507935, 0.7396666407585144, 0.7293333411216736, 0.7243333458900452, 0.7646666765213013, 0.7433333396911621, 0.7753333449363708, 0.7693333625793457, 0.7599999904632568, 0.7636666893959045, 0.7486666440963745, 0.7753333449363708, 0.7713333368301392, 0.7766666412353516, 0.7753333449363708]}],\n",
              "                        {\"template\": {\"data\": {\"bar\": [{\"error_x\": {\"color\": \"#2a3f5f\"}, \"error_y\": {\"color\": \"#2a3f5f\"}, \"marker\": {\"line\": {\"color\": \"#E5ECF6\", \"width\": 0.5}}, \"type\": \"bar\"}], \"barpolar\": [{\"marker\": {\"line\": {\"color\": \"#E5ECF6\", \"width\": 0.5}}, \"type\": \"barpolar\"}], \"carpet\": [{\"aaxis\": {\"endlinecolor\": \"#2a3f5f\", \"gridcolor\": \"white\", \"linecolor\": \"white\", \"minorgridcolor\": \"white\", \"startlinecolor\": \"#2a3f5f\"}, \"baxis\": {\"endlinecolor\": \"#2a3f5f\", \"gridcolor\": \"white\", \"linecolor\": \"white\", \"minorgridcolor\": \"white\", \"startlinecolor\": \"#2a3f5f\"}, \"type\": \"carpet\"}], \"choropleth\": [{\"colorbar\": {\"outlinewidth\": 0, \"ticks\": \"\"}, \"type\": \"choropleth\"}], \"contour\": [{\"colorbar\": {\"outlinewidth\": 0, \"ticks\": \"\"}, \"colorscale\": [[0.0, \"#0d0887\"], [0.1111111111111111, \"#46039f\"], [0.2222222222222222, \"#7201a8\"], [0.3333333333333333, \"#9c179e\"], [0.4444444444444444, \"#bd3786\"], [0.5555555555555556, \"#d8576b\"], [0.6666666666666666, \"#ed7953\"], [0.7777777777777778, \"#fb9f3a\"], [0.8888888888888888, \"#fdca26\"], [1.0, \"#f0f921\"]], \"type\": \"contour\"}], \"contourcarpet\": [{\"colorbar\": {\"outlinewidth\": 0, \"ticks\": \"\"}, \"type\": \"contourcarpet\"}], \"heatmap\": [{\"colorbar\": {\"outlinewidth\": 0, \"ticks\": \"\"}, \"colorscale\": [[0.0, \"#0d0887\"], [0.1111111111111111, \"#46039f\"], [0.2222222222222222, \"#7201a8\"], [0.3333333333333333, \"#9c179e\"], [0.4444444444444444, \"#bd3786\"], [0.5555555555555556, \"#d8576b\"], [0.6666666666666666, \"#ed7953\"], [0.7777777777777778, \"#fb9f3a\"], [0.8888888888888888, \"#fdca26\"], [1.0, \"#f0f921\"]], \"type\": \"heatmap\"}], \"heatmapgl\": [{\"colorbar\": {\"outlinewidth\": 0, \"ticks\": \"\"}, \"colorscale\": [[0.0, \"#0d0887\"], [0.1111111111111111, \"#46039f\"], [0.2222222222222222, \"#7201a8\"], [0.3333333333333333, \"#9c179e\"], [0.4444444444444444, \"#bd3786\"], [0.5555555555555556, \"#d8576b\"], [0.6666666666666666, \"#ed7953\"], [0.7777777777777778, \"#fb9f3a\"], [0.8888888888888888, \"#fdca26\"], [1.0, \"#f0f921\"]], \"type\": \"heatmapgl\"}], \"histogram\": [{\"marker\": {\"colorbar\": {\"outlinewidth\": 0, \"ticks\": \"\"}}, \"type\": \"histogram\"}], \"histogram2d\": [{\"colorbar\": {\"outlinewidth\": 0, \"ticks\": \"\"}, \"colorscale\": [[0.0, \"#0d0887\"], [0.1111111111111111, \"#46039f\"], [0.2222222222222222, \"#7201a8\"], [0.3333333333333333, \"#9c179e\"], [0.4444444444444444, \"#bd3786\"], [0.5555555555555556, \"#d8576b\"], [0.6666666666666666, \"#ed7953\"], [0.7777777777777778, \"#fb9f3a\"], [0.8888888888888888, \"#fdca26\"], [1.0, \"#f0f921\"]], \"type\": \"histogram2d\"}], \"histogram2dcontour\": [{\"colorbar\": {\"outlinewidth\": 0, \"ticks\": \"\"}, \"colorscale\": [[0.0, \"#0d0887\"], [0.1111111111111111, \"#46039f\"], [0.2222222222222222, \"#7201a8\"], [0.3333333333333333, \"#9c179e\"], [0.4444444444444444, \"#bd3786\"], [0.5555555555555556, \"#d8576b\"], [0.6666666666666666, \"#ed7953\"], [0.7777777777777778, \"#fb9f3a\"], [0.8888888888888888, \"#fdca26\"], [1.0, \"#f0f921\"]], \"type\": \"histogram2dcontour\"}], \"mesh3d\": [{\"colorbar\": {\"outlinewidth\": 0, \"ticks\": \"\"}, \"type\": \"mesh3d\"}], \"parcoords\": [{\"line\": {\"colorbar\": {\"outlinewidth\": 0, \"ticks\": \"\"}}, \"type\": \"parcoords\"}], \"pie\": [{\"automargin\": true, \"type\": \"pie\"}], \"scatter\": [{\"marker\": {\"colorbar\": {\"outlinewidth\": 0, \"ticks\": \"\"}}, \"type\": \"scatter\"}], \"scatter3d\": [{\"line\": {\"colorbar\": {\"outlinewidth\": 0, \"ticks\": \"\"}}, \"marker\": {\"colorbar\": {\"outlinewidth\": 0, \"ticks\": \"\"}}, \"type\": \"scatter3d\"}], \"scattercarpet\": [{\"marker\": {\"colorbar\": {\"outlinewidth\": 0, \"ticks\": \"\"}}, \"type\": \"scattercarpet\"}], \"scattergeo\": [{\"marker\": {\"colorbar\": {\"outlinewidth\": 0, \"ticks\": \"\"}}, \"type\": \"scattergeo\"}], \"scattergl\": [{\"marker\": {\"colorbar\": {\"outlinewidth\": 0, \"ticks\": \"\"}}, \"type\": \"scattergl\"}], \"scattermapbox\": [{\"marker\": {\"colorbar\": {\"outlinewidth\": 0, \"ticks\": \"\"}}, \"type\": \"scattermapbox\"}], \"scatterpolar\": [{\"marker\": {\"colorbar\": {\"outlinewidth\": 0, \"ticks\": \"\"}}, \"type\": \"scatterpolar\"}], \"scatterpolargl\": [{\"marker\": {\"colorbar\": {\"outlinewidth\": 0, \"ticks\": \"\"}}, \"type\": \"scatterpolargl\"}], \"scatterternary\": [{\"marker\": {\"colorbar\": {\"outlinewidth\": 0, \"ticks\": \"\"}}, \"type\": \"scatterternary\"}], \"surface\": [{\"colorbar\": {\"outlinewidth\": 0, \"ticks\": \"\"}, \"colorscale\": [[0.0, \"#0d0887\"], [0.1111111111111111, \"#46039f\"], [0.2222222222222222, \"#7201a8\"], [0.3333333333333333, \"#9c179e\"], [0.4444444444444444, \"#bd3786\"], [0.5555555555555556, \"#d8576b\"], [0.6666666666666666, \"#ed7953\"], [0.7777777777777778, \"#fb9f3a\"], [0.8888888888888888, \"#fdca26\"], [1.0, \"#f0f921\"]], \"type\": \"surface\"}], \"table\": [{\"cells\": {\"fill\": {\"color\": \"#EBF0F8\"}, \"line\": {\"color\": \"white\"}}, \"header\": {\"fill\": {\"color\": \"#C8D4E3\"}, \"line\": {\"color\": \"white\"}}, \"type\": \"table\"}]}, \"layout\": {\"annotationdefaults\": {\"arrowcolor\": \"#2a3f5f\", \"arrowhead\": 0, \"arrowwidth\": 1}, \"coloraxis\": {\"colorbar\": {\"outlinewidth\": 0, \"ticks\": \"\"}}, \"colorscale\": {\"diverging\": [[0, \"#8e0152\"], [0.1, \"#c51b7d\"], [0.2, \"#de77ae\"], [0.3, \"#f1b6da\"], [0.4, \"#fde0ef\"], [0.5, \"#f7f7f7\"], [0.6, \"#e6f5d0\"], [0.7, \"#b8e186\"], [0.8, \"#7fbc41\"], [0.9, \"#4d9221\"], [1, \"#276419\"]], \"sequential\": [[0.0, \"#0d0887\"], [0.1111111111111111, \"#46039f\"], [0.2222222222222222, \"#7201a8\"], [0.3333333333333333, \"#9c179e\"], [0.4444444444444444, \"#bd3786\"], [0.5555555555555556, \"#d8576b\"], [0.6666666666666666, \"#ed7953\"], [0.7777777777777778, \"#fb9f3a\"], [0.8888888888888888, \"#fdca26\"], [1.0, \"#f0f921\"]], \"sequentialminus\": [[0.0, \"#0d0887\"], [0.1111111111111111, \"#46039f\"], [0.2222222222222222, \"#7201a8\"], [0.3333333333333333, \"#9c179e\"], [0.4444444444444444, \"#bd3786\"], [0.5555555555555556, \"#d8576b\"], [0.6666666666666666, \"#ed7953\"], [0.7777777777777778, \"#fb9f3a\"], [0.8888888888888888, \"#fdca26\"], [1.0, \"#f0f921\"]]}, \"colorway\": [\"#636efa\", \"#EF553B\", \"#00cc96\", \"#ab63fa\", \"#FFA15A\", \"#19d3f3\", \"#FF6692\", \"#B6E880\", \"#FF97FF\", \"#FECB52\"], \"font\": {\"color\": \"#2a3f5f\"}, \"geo\": {\"bgcolor\": \"white\", \"lakecolor\": \"white\", \"landcolor\": \"#E5ECF6\", \"showlakes\": true, \"showland\": true, \"subunitcolor\": \"white\"}, \"hoverlabel\": {\"align\": \"left\"}, \"hovermode\": \"closest\", \"mapbox\": {\"style\": \"light\"}, \"paper_bgcolor\": \"white\", \"plot_bgcolor\": \"#E5ECF6\", \"polar\": {\"angularaxis\": {\"gridcolor\": \"white\", \"linecolor\": \"white\", \"ticks\": \"\"}, \"bgcolor\": \"#E5ECF6\", \"radialaxis\": {\"gridcolor\": \"white\", \"linecolor\": \"white\", \"ticks\": \"\"}}, \"scene\": {\"xaxis\": {\"backgroundcolor\": \"#E5ECF6\", \"gridcolor\": \"white\", \"gridwidth\": 2, \"linecolor\": \"white\", \"showbackground\": true, \"ticks\": \"\", \"zerolinecolor\": \"white\"}, \"yaxis\": {\"backgroundcolor\": \"#E5ECF6\", \"gridcolor\": \"white\", \"gridwidth\": 2, \"linecolor\": \"white\", \"showbackground\": true, \"ticks\": \"\", \"zerolinecolor\": \"white\"}, \"zaxis\": {\"backgroundcolor\": \"#E5ECF6\", \"gridcolor\": \"white\", \"gridwidth\": 2, \"linecolor\": \"white\", \"showbackground\": true, \"ticks\": \"\", \"zerolinecolor\": \"white\"}}, \"shapedefaults\": {\"line\": {\"color\": \"#2a3f5f\"}}, \"ternary\": {\"aaxis\": {\"gridcolor\": \"white\", \"linecolor\": \"white\", \"ticks\": \"\"}, \"baxis\": {\"gridcolor\": \"white\", \"linecolor\": \"white\", \"ticks\": \"\"}, \"bgcolor\": \"#E5ECF6\", \"caxis\": {\"gridcolor\": \"white\", \"linecolor\": \"white\", \"ticks\": \"\"}}, \"title\": {\"x\": 0.05}, \"xaxis\": {\"automargin\": true, \"gridcolor\": \"white\", \"linecolor\": \"white\", \"ticks\": \"\", \"title\": {\"standoff\": 15}, \"zerolinecolor\": \"white\", \"zerolinewidth\": 2}, \"yaxis\": {\"automargin\": true, \"gridcolor\": \"white\", \"linecolor\": \"white\", \"ticks\": \"\", \"title\": {\"standoff\": 15}, \"zerolinecolor\": \"white\", \"zerolinewidth\": 2}}}, \"title\": {\"text\": \"Accuracy of Model\"}, \"xaxis\": {\"title\": {\"text\": \"Epochs\"}}, \"yaxis\": {\"title\": {\"text\": \"accuracy\"}}},\n",
              "                        {\"responsive\": true}\n",
              "                    ).then(function(){\n",
              "                            \n",
              "var gd = document.getElementById('98afd17f-4bd5-45c6-b780-c453ea1b749e');\n",
              "var x = new MutationObserver(function (mutations, observer) {{\n",
              "        var display = window.getComputedStyle(gd).display;\n",
              "        if (!display || display === 'none') {{\n",
              "            console.log([gd, 'removed!']);\n",
              "            Plotly.purge(gd);\n",
              "            observer.disconnect();\n",
              "        }}\n",
              "}});\n",
              "\n",
              "// Listen for the removal of the full notebook cells\n",
              "var notebookContainer = gd.closest('#notebook-container');\n",
              "if (notebookContainer) {{\n",
              "    x.observe(notebookContainer, {childList: true});\n",
              "}}\n",
              "\n",
              "// Listen for the clearing of the current output cell\n",
              "var outputEl = gd.closest('.output');\n",
              "if (outputEl) {{\n",
              "    x.observe(outputEl, {childList: true});\n",
              "}}\n",
              "\n",
              "                        })\n",
              "                };\n",
              "                \n",
              "            </script>\n",
              "        </div>\n",
              "</body>\n",
              "</html>"
            ]
          },
          "metadata": {
            "tags": []
          }
        }
      ]
    }
  ]
}